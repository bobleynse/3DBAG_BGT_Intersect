{
 "cells": [
  {
   "cell_type": "markdown",
   "metadata": {},
   "source": [
    "# BAG3D BGT Intersection\n",
    "This notebook computes the optimial intersection height between 3DBAG building and 3Dfied BGT buildings based on point clouds."
   ]
  },
  {
   "cell_type": "code",
   "execution_count": 3,
   "metadata": {},
   "outputs": [
    {
     "name": "stdout",
     "output_type": "stream",
     "text": [
      "The autoreload extension is already loaded. To reload it, use:\n",
      "  %reload_ext autoreload\n"
     ]
    }
   ],
   "source": [
    "%load_ext autoreload\n",
    "%autoreload 2\n",
    "\n",
    "import os\n",
    "import trimesh\n",
    "import numpy as np\n",
    "import matplotlib.pyplot as plt\n",
    "\n",
    "# Suppress loading warnings\n",
    "import logging\n",
    "logger = logging.getLogger(\"trimesh\")\n",
    "logger.setLevel(logging.ERROR)\n",
    "\n",
    "from src.scrapers.bag_scraper import get_bag_by_tile_codes\n",
    "from src.scrapers.bag3d_scraper import get_bag3d_as_json\n",
    "from src.scrapers.bgt_scraper import get_bgt_by_tile_codes\n",
    "\n",
    "from src.intersect import intersect"
   ]
  },
  {
   "cell_type": "markdown",
   "metadata": {},
   "source": [
    "### Load all city data-sources"
   ]
  },
  {
   "cell_type": "code",
   "execution_count": 2,
   "metadata": {},
   "outputs": [
    {
     "name": "stdout",
     "output_type": "stream",
     "text": [
      "https://data.3dbag.nl/api/BAG3D_v2/wfs?version=1.1.0&request=GetFeature&typename=BAG3d_v2:bag_tiles_3k&outputFormat=application/json&srsname=EPSG:28992&bbox=122250.0,486150.0,122550.0,486350.0,EPSG:28992\n",
      "Starting threads\n",
      "Found features:1\n",
      "4274 -> https://data.3dbag.nl/cityjson/v210908_fd2cee53/3dbag_v210908_fd2cee53_4274.json\n",
      "- C:/Users/boble/Documents/AI-year2/Thesis/data/4274_2829_bbox_121600_486050_122840_487290.json\n"
     ]
    }
   ],
   "source": [
    "# Load necesarry data sources\n",
    "tile_codes = ['2445_9723', '2445_9724', '2445_9725', '2446_9723', '2446_9724', '2446_9725', '2447_9724', '2447_9725', '2447_9726', '2448_9724', '2448_9725', '2448_9726', '2449_9724', '2449_9725', '2449_9726', '2450_9724', '2450_9725', '2450_9726',]\n",
    "\n",
    "# 2.5D building model (Can take a minute)\n",
    "city_model = get_bag3d_as_json(tile_codes)\n",
    "\n",
    "# 2D city footprints\n",
    "city_map = get_bgt_by_tile_codes(tile_codes, padding=5)\n",
    "\n",
    "# 2D building outlines\n",
    "city_outline = get_bag_by_tile_codes(tile_codes, padding=5)"
   ]
  },
  {
   "cell_type": "markdown",
   "metadata": {},
   "source": [
    "## Perform on a single building"
   ]
  },
  {
   "cell_type": "code",
   "execution_count": 5,
   "metadata": {},
   "outputs": [
    {
     "name": "stdout",
     "output_type": "stream",
     "text": [
      "0 ['0363100012165490', 0.9707851818711496, 403, 1634, 2.6483525999999955] 6.499999999999998\n"
     ]
    }
   ],
   "source": [
    "id = '0363100012165490'\n",
    "\n",
    "results_summary = intersect(\n",
    "    out_folder='D:/',\n",
    "    idx=[id],\n",
    "    dataset='Amsterdam',\n",
    "    stepsize=0.1,\n",
    "    N=10000,\n",
    "    improvement_threshold=0.0,\n",
    "    bottom_buffer=0.5,\n",
    "    smooth=True,\n",
    "    city_model=city_model,\n",
    "    city_map=city_map,\n",
    "    city_outline=city_outline\n",
    "    )"
   ]
  }
 ],
 "metadata": {
  "kernelspec": {
   "display_name": "Python 3.9.7 ('planefit')",
   "language": "python",
   "name": "python3"
  },
  "language_info": {
   "codemirror_mode": {
    "name": "ipython",
    "version": 3
   },
   "file_extension": ".py",
   "mimetype": "text/x-python",
   "name": "python",
   "nbconvert_exporter": "python",
   "pygments_lexer": "ipython3",
   "version": "3.9.7"
  },
  "orig_nbformat": 4,
  "vscode": {
   "interpreter": {
    "hash": "aa4e5f3798829a4603945247834c80f556c90a07c423079669251f7adbeb5c82"
   }
  }
 },
 "nbformat": 4,
 "nbformat_minor": 2
}
