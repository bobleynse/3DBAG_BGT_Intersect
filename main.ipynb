{
 "cells": [
  {
   "cell_type": "markdown",
   "metadata": {},
   "source": [
    "# BAG3D BGT Intersection\n",
    "This notebook computes the optimial intersection height between 3DBAG building and 3Dfied BGT buildings based on point clouds."
   ]
  },
  {
   "cell_type": "code",
   "execution_count": null,
   "metadata": {},
   "outputs": [],
   "source": [
    "%load_ext autoreload\n",
    "%autoreload 2\n",
    "\n",
    "import os\n",
    "import trimesh\n",
    "import numpy as np\n",
    "import laspy\n",
    "\n",
    "# Suppress loading warnings\n",
    "import logging\n",
    "logger = logging.getLogger(\"trimesh\")\n",
    "logger.setLevel(logging.ERROR)\n",
    "\n",
    "from src.scrapers.bag_scraper import get_bag_by_tile_codes\n",
    "from src.scrapers.bag3d_scraper import get_bag3d_as_json\n",
    "from src.scrapers.bgt_scraper import get_bgt_by_tile_codes\n",
    "\n",
    "from src.intersect import intersect\n",
    "\n",
    "root = 'C:/Users/boble/Documents/AI-year2/3DBAG_BGT_Intersect'"
   ]
  },
  {
   "cell_type": "markdown",
   "metadata": {},
   "source": [
    "### Load all city data-sources"
   ]
  },
  {
   "cell_type": "code",
   "execution_count": null,
   "metadata": {},
   "outputs": [],
   "source": [
    "# Load necesarry data sources\n",
    "tile_codes = ['2445_9723', '2445_9724', '2445_9725', '2446_9723', '2446_9724', '2446_9725', '2447_9724', '2447_9725', '2447_9726', '2448_9724', '2448_9725', '2448_9726', '2449_9724', '2449_9725', '2449_9726', '2450_9724', '2450_9725', '2450_9726',]\n",
    "\n",
    "# 2.5D building model (Can take a minute)\n",
    "city_model = get_bag3d_as_json(tile_codes)\n",
    "\n",
    "# 2D city footprints\n",
    "city_map = get_bgt_by_tile_codes(tile_codes, padding=5)\n",
    "\n",
    "# 2D building outlines\n",
    "city_outlines = get_bag_by_tile_codes(tile_codes, padding=5)"
   ]
  },
  {
   "cell_type": "markdown",
   "metadata": {},
   "source": [
    "## Preprocess point clouds"
   ]
  },
  {
   "cell_type": "code",
   "execution_count": null,
   "metadata": {},
   "outputs": [],
   "source": [
    "from src.utils.pointclouds import clean_pointcloud_tiles, divide_tiles_per_building\n",
    "\n",
    "save_colors = True\n",
    "voxel_size = 0.1"
   ]
  },
  {
   "cell_type": "markdown",
   "metadata": {},
   "source": [
    "### Clean point clouds"
   ]
  },
  {
   "cell_type": "code",
   "execution_count": null,
   "metadata": {},
   "outputs": [],
   "source": [
    "input_dir = 'D:/datasets/Amsterdam/datalab_env/run1'\n",
    "output_dir = 'D:/datasets/Amsterdam/datalab_env/cleaned'\n",
    "\n",
    "clean_pointcloud_tiles(input_dir, output_dir, save_colors=save_colors, voxel_size=voxel_size)"
   ]
  },
  {
   "cell_type": "markdown",
   "metadata": {},
   "source": [
    "### Divide pointcloud per building polygon"
   ]
  },
  {
   "cell_type": "code",
   "execution_count": null,
   "metadata": {},
   "outputs": [],
   "source": [
    "input_dir = 'D:/datasets/Amsterdam/datalab_env/cleaned'\n",
    "output_dir = 'D:/datasets/Amsterdam/buildings'\n",
    "\n",
    "buffer_inside = -0.5\n",
    "buffer_outside = 1.0\n",
    "\n",
    "divide_tiles_per_building(input_dir, output_dir, city_map, city_outlines, buffer_inside, buffer_outside, save_colors)"
   ]
  },
  {
   "cell_type": "markdown",
   "metadata": {},
   "source": [
    "## Compute optimal intersection height\n",
    "And save the results as `.obj`"
   ]
  },
  {
   "cell_type": "markdown",
   "metadata": {},
   "source": [
    "### Parameter explanation\n",
    "* `idx`: List of strings containing building idx (bag_ids) for the dataloader.\n",
    "* `out_folder`: Output folder.\n",
    "* `dataset='Amsterdam'`: Switch for different datasets.\n",
    "* `stepsize=0.1`: Defines the interval to check the intersection. Defaults to 0.1 meters.\n",
    "* `N=10000`: Number of evaluation samples. Higher is more accurate but slower.\n",
    "* `improvement_threshold=0.0`: Only use the new building model when the improvement is higher then this threshold.\n",
    "* `bottom_buffer=2.5`: Only allow intersections above this buffer with respect to the 3dbag bottom.\n",
    "* `top_buffer=2.5`: Only allow intersections bellow this buffer with respect to the 3dbag top.\n",
    "* `smooth=True`: Add smoothing to reduce the impact of outliers."
   ]
  },
  {
   "cell_type": "code",
   "execution_count": null,
   "metadata": {},
   "outputs": [],
   "source": [
    "# List of strings containing building idx (bag ids) for the dataloader\n",
    "idx = [file[:-4] for file in os.listdir('D:/datasets/Amsterdam/buildings/')] # Complete folder\n",
    "# idx = ['0363100012165490'] # One building\n",
    "# idx = ['0363100012181176'] # One building\n",
    "\n",
    "results_summary = intersect(\n",
    "    idx=idx,\n",
    "    out_folder=os.path.join(root, 'data', 'ply'),\n",
    "    dataset_root='D:/datasets/Amsterdam/buildings',\n",
    "    stepsize=0.1,\n",
    "    N=10000,\n",
    "    improvement_threshold=0.01,\n",
    "    bottom_buffer=3,\n",
    "    top_buffer=6,\n",
    "    smooth=True,\n",
    "    city_model=city_model,\n",
    "    city_map=city_map,\n",
    "    city_outline=city_outlines\n",
    "    )\n",
    "\n",
    "results_summary"
   ]
  },
  {
   "cell_type": "markdown",
   "metadata": {},
   "source": [
    "## Convert `.obj` to `.cityjson`"
   ]
  },
  {
   "cell_type": "code",
   "execution_count": null,
   "metadata": {},
   "outputs": [],
   "source": [
    "from pathlib import Path\n",
    "\n",
    "from cjio import cityjson\n",
    "from cjio.models import CityObject\n",
    "\n",
    "from src.utils.cityjson import trimesh_to_geometry\n",
    "\n",
    "package_dir = Path(__name__).resolve().parent.parent.parent\n",
    "schema_dir = package_dir / 'cjio' / 'schemas'/ '1.1.0'\n",
    "data_dir = package_dir / 'tests' / 'data'"
   ]
  },
  {
   "cell_type": "code",
   "execution_count": null,
   "metadata": {},
   "outputs": [],
   "source": [
    "cm = cityjson.CityJSON()"
   ]
  },
  {
   "cell_type": "code",
   "execution_count": null,
   "metadata": {},
   "outputs": [],
   "source": [
    "for file in os.listdir(os.path.join(root, 'data', 'ply')):\n",
    "    if file[-4:] == '.ply':\n",
    "        print(f'Processing: {file}')\n",
    "        \n",
    "        # Initiate object\n",
    "        co = CityObject(\n",
    "            id=file[:-4],\n",
    "            type='Building'\n",
    "        )\n",
    "\n",
    "        # Load trimesh\n",
    "        mesh = trimesh.load_mesh(os.path.join(root, 'data', 'ply', file))\n",
    "\n",
    "        # Initiate geometry\n",
    "        geom = trimesh_to_geometry(mesh)\n",
    "\n",
    "        # Add geometry to City object\n",
    "        co.geometry.append(geom)\n",
    "        co.type = 'Building'\n",
    "        cm.cityobjects[co.id] = co\n",
    "        cm.add_to_j()\n",
    "\n",
    "cm.update_bbox()"
   ]
  },
  {
   "cell_type": "code",
   "execution_count": null,
   "metadata": {},
   "outputs": [],
   "source": [
    "cm.is_transformed = False\n",
    "cityjson.save(cm, 'D:/test_create.json')"
   ]
  }
 ],
 "metadata": {
  "kernelspec": {
   "display_name": "Python 3.9.7 ('planefit')",
   "language": "python",
   "name": "python3"
  },
  "language_info": {
   "codemirror_mode": {
    "name": "ipython",
    "version": 3
   },
   "file_extension": ".py",
   "mimetype": "text/x-python",
   "name": "python",
   "nbconvert_exporter": "python",
   "pygments_lexer": "ipython3",
   "version": "3.9.7"
  },
  "orig_nbformat": 4,
  "vscode": {
   "interpreter": {
    "hash": "aa4e5f3798829a4603945247834c80f556c90a07c423079669251f7adbeb5c82"
   }
  }
 },
 "nbformat": 4,
 "nbformat_minor": 2
}
