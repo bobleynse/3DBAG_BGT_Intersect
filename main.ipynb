{
 "cells": [
  {
   "cell_type": "markdown",
   "metadata": {},
   "source": [
    "# BAG3D BGT Intersection\n",
    "This notebook computes the optimial intersection height between 3DBAG building and 3Dfied BGT buildings based on point clouds."
   ]
  },
  {
   "cell_type": "code",
   "execution_count": null,
   "metadata": {},
   "outputs": [],
   "source": [
    "%load_ext autoreload\n",
    "%autoreload 2\n",
    "\n",
    "import os\n",
    "import trimesh\n",
    "import numpy as np\n",
    "import matplotlib.pyplot as plt\n",
    "\n",
    "# Suppress loading warnings\n",
    "import logging\n",
    "logger = logging.getLogger(\"trimesh\")\n",
    "logger.setLevel(logging.ERROR)\n",
    "\n",
    "from src.scrapers.bag_scraper import get_bag_by_tile_codes\n",
    "from src.scrapers.bag3d_scraper import get_bag3d_as_json\n",
    "from src.scrapers.bgt_scraper import get_bgt_by_tile_codes\n",
    "\n",
    "from src.intersect import intersect"
   ]
  },
  {
   "cell_type": "markdown",
   "metadata": {},
   "source": [
    "### Load all city data-sources"
   ]
  },
  {
   "cell_type": "code",
   "execution_count": null,
   "metadata": {},
   "outputs": [],
   "source": [
    "# Load necesarry data sources\n",
    "tile_codes = ['2445_9723', '2445_9724', '2445_9725', '2446_9723', '2446_9724', '2446_9725', '2447_9724', '2447_9725', '2447_9726', '2448_9724', '2448_9725', '2448_9726', '2449_9724', '2449_9725', '2449_9726', '2450_9724', '2450_9725', '2450_9726',]\n",
    "\n",
    "# 2.5D building model (Can take a minute)\n",
    "city_model = get_bag3d_as_json(tile_codes)\n",
    "\n",
    "# 2D city footprints\n",
    "city_map = get_bgt_by_tile_codes(tile_codes, padding=5)\n",
    "\n",
    "# 2D building outlines\n",
    "city_outline = get_bag_by_tile_codes(tile_codes, padding=5)"
   ]
  },
  {
   "cell_type": "markdown",
   "metadata": {},
   "source": [
    "## Preprocess point clouds"
   ]
  },
  {
   "cell_type": "code",
   "execution_count": null,
   "metadata": {},
   "outputs": [],
   "source": [
    "# TODO"
   ]
  },
  {
   "cell_type": "markdown",
   "metadata": {},
   "source": [
    "## Compute optimal intersection height\n",
    "And save the results as `.obj`"
   ]
  },
  {
   "cell_type": "markdown",
   "metadata": {},
   "source": [
    "### Parameter explanation\n",
    "* `idx`: List of strings containing building idx (bag_ids) for the dataloader.\n",
    "* `out_folder`: Output folder.\n",
    "* `dataset='Amsterdam'`: Switch for different datasets.\n",
    "* `stepsize=0.1`: Defines the interval to check the intersection. Defaults to 0.1 meters.\n",
    "* `N=10000`: Number of evaluation samples. Higher is more accurate but slower.\n",
    "* `improvement_threshold=0.0`: Only use the new building model when the improvement is higher then this threshold.\n",
    "* `bottom_buffer=2.5`: Only allow intersections above this buffer with respect to the 3dbag bottom.\n",
    "* `top_buffer=2.5`: Only allow intersections bellow this buffer with respect to the 3dbag top.\n",
    "* `smooth=True`: Add smoothing to reduce the impact of outliers."
   ]
  },
  {
   "cell_type": "code",
   "execution_count": null,
   "metadata": {},
   "outputs": [],
   "source": [
    "# List of strings containing building idx (bag ids) for the dataloader\n",
    "# idx = [file[:-4] for file in os.listdir('D:/datasets/Amsterdam/filtered/')] # Complete folder\n",
    "idx = ['0363100012181176'] # One building\n",
    "\n",
    "results_summary = intersect(\n",
    "    idx=idx,\n",
    "    out_folder='D:/',\n",
    "    dataset='Amsterdam',\n",
    "    stepsize=0.1,\n",
    "    N=10000,\n",
    "    improvement_threshold=0.0,\n",
    "    bottom_buffer=2.5,\n",
    "    top_buffer=2.5,\n",
    "    smooth=True,\n",
    "    city_model=city_model,\n",
    "    city_map=city_map,\n",
    "    city_outline=city_outline\n",
    "    )\n",
    "\n",
    "results_summary"
   ]
  },
  {
   "cell_type": "markdown",
   "metadata": {},
   "source": [
    "## Convert `.obj` to `.cityjson`"
   ]
  },
  {
   "cell_type": "code",
   "execution_count": null,
   "metadata": {},
   "outputs": [],
   "source": [
    "from pathlib import Path\n",
    "\n",
    "from cjio import cityjson\n",
    "from cjio.models import CityObject, Geometry\n",
    "\n",
    "package_dir = Path(__name__).resolve().parent.parent.parent\n",
    "schema_dir = package_dir / 'cjio' / 'schemas'/ '1.1.0'\n",
    "data_dir = package_dir / 'tests' / 'data'"
   ]
  },
  {
   "cell_type": "code",
   "execution_count": null,
   "metadata": {},
   "outputs": [],
   "source": [
    "cm = cityjson.CityJSON()\n",
    "cm.load_from_j(False)"
   ]
  },
  {
   "cell_type": "code",
   "execution_count": null,
   "metadata": {},
   "outputs": [],
   "source": [
    "# cm.j['transform'] = {\n",
    "#     \"scale\": [1.0, 1.0, 1.0],\n",
    "#     \"translate\": [0.0, 0.0, 0.0]\n",
    "#     }"
   ]
  },
  {
   "cell_type": "code",
   "execution_count": null,
   "metadata": {},
   "outputs": [],
   "source": [
    "idx = [file[:-4] for file in os.listdir('D:/datasets/Amsterdam/filtered/')][0:4]\n",
    "\n",
    "for id in idx:\n",
    "    # Initiate object\n",
    "    co = CityObject(\n",
    "        id=id,\n",
    "        type='Building'\n",
    "    )\n",
    "\n",
    "    # Initiate geometry\n",
    "    # geom = Geometry(type='Solid', lod=2, transform=cm.j['transform'])\n",
    "    geom = Geometry(type='Solid', lod=2)\n",
    "\n",
    "    # Add boundaries\n",
    "    bdry = [\n",
    "        [[[0.0, 0.0, 0.0], [10.0, 0.0, 0.0], [10.0, 0.0, 10.0], [0.0, 0.0, 10.0]]],\n",
    "        [[[10.0, 0.0, 0.0], [10.0, 10.0, 0.0], [10.0, 10.0, 10.0], [10.0, 0.0, 10.0]]],\n",
    "        [[[10.0, 10.0, 0.0], [0.0, 10.0, 0.0], [0.0, 10.0, 10.0], [10.0, 10.0, 10.0]]],\n",
    "        [[[0.0, 10.0, 0.0], [0.0, 0.0, 0.0], [0.0, 0.0, 10.0], [0.0, 10.0, 10.0]]],\n",
    "        [[[0.0, 0.0, 0.0], [0.0, 10.0, 0.0], [10.0, 10.0, 0.0], [10.0, 0.0, 0.0]]],\n",
    "        [[[10.0, 0.0, 10.0], [10.0, 10.0, 10.0], [0.0, 10.0, 10.0], [0.0, 0.0, 10.0]]]\n",
    "    ]\n",
    "    geom.boundaries.append(bdry)\n",
    "\n",
    "    # Add surface information\n",
    "    geom.surfaces[0] = {'surface_idx': [[0,0], [0,1], [0,2], [0,3]], 'type': 'WallSurface'}\n",
    "    geom.surfaces[1] = {'surface_idx': [[0,4]], 'type': 'GroundSurface'}\n",
    "    geom.surfaces[2] = {'surface_idx': [[0,5]], 'type': 'RoofSurface'}\n",
    "\n",
    "    print(geom.surfaces)\n",
    "    # Add geometry to City object\n",
    "    co.geometry.append(geom)\n",
    "    co.type = 'Building'\n",
    "    cm.cityobjects[co.id] = co\n",
    "    cm.add_to_j()"
   ]
  },
  {
   "cell_type": "code",
   "execution_count": null,
   "metadata": {},
   "outputs": [],
   "source": [
    "cm.update_bbox()\n",
    "print(cm.validate())"
   ]
  },
  {
   "cell_type": "code",
   "execution_count": null,
   "metadata": {},
   "outputs": [],
   "source": [
    "cityjson.save(cm, 'D:/test_create.json')"
   ]
  }
 ],
 "metadata": {
  "kernelspec": {
   "display_name": "Python 3.9.7 ('planefit')",
   "language": "python",
   "name": "python3"
  },
  "language_info": {
   "codemirror_mode": {
    "name": "ipython",
    "version": 3
   },
   "file_extension": ".py",
   "mimetype": "text/x-python",
   "name": "python",
   "nbconvert_exporter": "python",
   "pygments_lexer": "ipython3",
   "version": "3.9.7"
  },
  "orig_nbformat": 4,
  "vscode": {
   "interpreter": {
    "hash": "aa4e5f3798829a4603945247834c80f556c90a07c423079669251f7adbeb5c82"
   }
  }
 },
 "nbformat": 4,
 "nbformat_minor": 2
}
